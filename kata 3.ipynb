{
 "cells": [
  {
   "cell_type": "markdown",
   "metadata": {},
   "source": [
    "## Kata 3\n",
    "\n",
    "## Ejercicio - Escribir declaraciones if, else, y elif"
   ]
  },
  {
   "cell_type": "code",
   "execution_count": 1,
   "metadata": {},
   "outputs": [
    {
     "name": "stdout",
     "output_type": "stream",
     "text": [
      "Advertencia, se acerca un asteroide\n"
     ]
    }
   ],
   "source": [
    "velocidadAsteroide = 49;\n",
    "\n",
    "if velocidadAsteroide >=25 :\n",
    "    print(\"Advertencia, se acerca un asteroide\")"
   ]
  },
  {
   "cell_type": "code",
   "execution_count": 2,
   "metadata": {},
   "outputs": [],
   "source": [
    "velocidadAsteroide = 19;\n",
    "if velocidadAsteroide >=20:\n",
    "    print(\"Busca el asteroide en el cielo!\")"
   ]
  },
  {
   "cell_type": "code",
   "execution_count": 3,
   "metadata": {},
   "outputs": [
    {
     "name": "stdout",
     "output_type": "stream",
     "text": [
      "Busca el asteroide en el cielo\n",
      "Advertencia se acerca un asteroide peligroso\n"
     ]
    }
   ],
   "source": [
    "velocidadAsteroide = 25;\n",
    "tamAsteroide = 25;\n",
    "if velocidadAsteroide >=20:\n",
    "    print(\"Busca el asteroide en el cielo\")\n",
    "else: print(\"No hay nada que ver\")\n",
    "if velocidadAsteroide>=25 and tamAsteroide >=25 and tamAsteroide <=100:\n",
    "    print(\"Advertencia se acerca un asteroide peligroso\");\n",
    "elif velocidadAsteroide>=25:\n",
    "    print(\"Advertencia, se acerca un asteroide con demasida velocidad\")\n",
    "else: print(\"No hay ninguna amenaza\")"
   ]
  }
 ],
 "metadata": {
  "interpreter": {
   "hash": "84110e83f1c72800e699cb876315e5728befb896f8a9970405d32ab745807737"
  },
  "kernelspec": {
   "display_name": "Python 3.9.10 64-bit (windows store)",
   "language": "python",
   "name": "python3"
  },
  "language_info": {
   "codemirror_mode": {
    "name": "ipython",
    "version": 3
   },
   "file_extension": ".py",
   "mimetype": "text/x-python",
   "name": "python",
   "nbconvert_exporter": "python",
   "pygments_lexer": "ipython3",
   "version": "3.9.10"
  },
  "orig_nbformat": 4
 },
 "nbformat": 4,
 "nbformat_minor": 2
}
