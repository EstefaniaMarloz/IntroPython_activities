{
 "cells": [
  {
   "cell_type": "markdown",
   "metadata": {},
   "source": [
    "## Kata 8\n",
    "\n",
    "### Ejercicio 1: Creación de diccionarios de Python"
   ]
  },
  {
   "cell_type": "code",
   "execution_count": 1,
   "metadata": {},
   "outputs": [
    {
     "name": "stdout",
     "output_type": "stream",
     "text": [
      "Mars tiene 2 lunas\n"
     ]
    }
   ],
   "source": [
    "planet = {\n",
    "    \"name\": \"Mars\",\n",
    "    \"moons\": 2,\n",
    "}\n",
    "\n",
    "print(planet.get(\"name\"),\"tiene\", planet.get(\"moons\"),\"lunas\")"
   ]
  },
  {
   "cell_type": "code",
   "execution_count": 5,
   "metadata": {},
   "outputs": [
    {
     "name": "stdout",
     "output_type": "stream",
     "text": [
      "Mars tiene una circunferencia de 2752\n"
     ]
    }
   ],
   "source": [
    "planet['circunferencia(km)'] = {\n",
    "    \"polar\":2752,\n",
    "    \"equatorial\": 6792\n",
    "}\n",
    "\n",
    "print(f'{planet[\"name\"]} tiene una circunferencia de {planet[\"circunferencia(km)\"][\"polar\"]}')"
   ]
  },
  {
   "cell_type": "markdown",
   "metadata": {},
   "source": [
    "### Ejercicio 2: Programación dinámica con diccionarios"
   ]
  },
  {
   "cell_type": "code",
   "execution_count": 3,
   "metadata": {},
   "outputs": [],
   "source": [
    "planet_moons = {\n",
    "    'mercury': 0,\n",
    "    'venus': 0,\n",
    "    'earth': 1,\n",
    "    'mars': 2,\n",
    "    'jupiter': 79,\n",
    "    'saturn': 82,\n",
    "    'uranus': 27,\n",
    "    'neptune': 14,\n",
    "    'pluto': 5,\n",
    "    'haumea': 2,\n",
    "    'makemake': 1,\n",
    "    'eris': 1\n",
    "}"
   ]
  },
  {
   "cell_type": "code",
   "execution_count": 4,
   "metadata": {},
   "outputs": [
    {
     "name": "stdout",
     "output_type": "stream",
     "text": [
      "Lunas promedio 17.833333333333332\n"
     ]
    }
   ],
   "source": [
    "values = planet_moons.values()\n",
    "planet_count = len(values)\n",
    "total_moons=0\n",
    "for value in values:\n",
    "    total_moons = total_moons + value\n",
    "print(\"Lunas promedio\",total_moons/planet_count)"
   ]
  }
 ],
 "metadata": {
  "interpreter": {
   "hash": "84110e83f1c72800e699cb876315e5728befb896f8a9970405d32ab745807737"
  },
  "kernelspec": {
   "display_name": "Python 3.9.10 64-bit (windows store)",
   "language": "python",
   "name": "python3"
  },
  "language_info": {
   "codemirror_mode": {
    "name": "ipython",
    "version": 3
   },
   "file_extension": ".py",
   "mimetype": "text/x-python",
   "name": "python",
   "nbconvert_exporter": "python",
   "pygments_lexer": "ipython3",
   "version": "3.9.10"
  },
  "orig_nbformat": 4
 },
 "nbformat": 4,
 "nbformat_minor": 2
}
